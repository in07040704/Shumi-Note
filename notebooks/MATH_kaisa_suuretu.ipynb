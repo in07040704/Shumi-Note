{
 "cells": [
  {
   "cell_type": "markdown",
   "metadata": {},
   "source": [
    " # 階差数列・Telescoping\n",
    "\n",
    "参考：[弱点克服　大学生の確率・統計](https://amzn.asia/d/hrIfr0i)\n",
    "\n",
    "■階差数列：\n",
    "\n",
    "\n",
    "階差数列$a_{k+1}-a_k$ の和の公式は，\n",
    "$$\n",
    "a_n=a_1+ \\sum_{k=1}^{n-1}(a_{k+1}-a_k)\n",
    "$$\n",
    "\n",
    "また，この階差数列の和の公式は次に見る **Telescoping formula (望遠鏡公式)** と呼ばれている．\n",
    "$$\n",
    "\\sum_{k=初}^{末} \\{ f(k+1)-f(k) \\} = (f(末+1)-f(末))+\\cdot\\cdot\\cdot+(f(初+1)-f(初))=f(末+1)-f(初)\n",
    "$$\n",
    "\n",
    "例：Telescopingで，$k(k-1)(k-2)=A$とすると，\n",
    "$$k(k-1)(k-2)=\\frac{(k+1)A-A(k-3)}{4}=\\frac{(k+1)k(k-1)(k-2) - k(k-1)(k-2)(k-3)}{4}$$"
   ]
  },
  {
   "cell_type": "markdown",
   "metadata": {},
   "source": [
    "問題１．$$\\sum_{k=4}^{n}k(k-1)(k-2)(k-3)$$\n",
    "\n",
    "問題２．$$\\sum_{k=4}^{n}k(k+1)(k+2)(k+3)$$\n",
    "\n",
    "問題３．$$\\sum_{k=1}^{n}k\\cdot k!$$"
   ]
  },
  {
   "cell_type": "markdown",
   "metadata": {},
   "source": [
    "(1) \n",
    "$$\n",
    "\\sum_{k=4}^{n}k(k-1)(k-2)(k-3) = \\sum_{k=4}^{n} \\frac{(k+1)k(k-1)(k-2)(k-3)-k(k-1)(k-2)(k-3)(k-4)}{5}=\\frac{(n+1)n(n-1)(n-2)(n-3)}{5}\n",
    "$$\n",
    "\n",
    "(2) \n",
    "$$\n",
    "\\sum_{k=4}^{n}k(k+1)(k+2)(k+3) = \\sum_{k=4}^{n} \\frac{k(k+1)(k+2)(k+3)(k+4)-(k-1)k(k+1)(k+2)(k+3)}{5}=\\frac{n(n+1)(n+2)(n+3)(n+4)-3\\cdot 4 \\cdot 5 \\cdot 6 \\cdot 7}{5}\n",
    "$$\n",
    "\n",
    "(3) \n",
    "$$\n",
    "\\sum_{k=1}^{n}k\\cdot k! = \\sum_{k=1}^{n} (k+1-1)k! = \\sum_{k=1}^{n} \\{(k+1)!-k!\\} = (n+1)!-1\n",
    "$$"
   ]
  },
  {
   "cell_type": "code",
   "execution_count": null,
   "metadata": {},
   "outputs": [],
   "source": []
  }
 ],
 "metadata": {
  "language_info": {
   "name": "python"
  }
 },
 "nbformat": 4,
 "nbformat_minor": 2
}

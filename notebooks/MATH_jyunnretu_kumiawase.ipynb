{
 "cells": [
  {
   "cell_type": "markdown",
   "metadata": {},
   "source": [
    "# 順列組み合わせ\n",
    "\n",
    "参考：[弱点克服　大学生の確率・統計](https://amzn.asia/d/hrIfr0i)\n",
    "\n",
    "区別できる$n$個のものから$r$個の区別出来るものを選ぶとき，\n",
    "(a) 順番も気にする場合（つまり，順番が異なる場合もカウントする）は，\n",
    "\n",
    "$$\n",
    "_nP_r = n \\times (n-1) \\times \\cdot\\cdot\\cdot (n-r+1) = \\frac{n!}{(n-r!)}\n",
    "$$\n",
    "\n",
    "(b) 順番を気にしない場合（つまり，順番が入れ替わっている物はカウントしない）は，\n",
    "$$\n",
    "[(a)での順列の総数] \\div [チームのメンバー数]から，_nC_k = \\frac{_nP_k}{k!}\n",
    "$$\n",
    "\n"
   ]
  },
  {
   "cell_type": "markdown",
   "metadata": {},
   "source": [
    "問題１．3個のa, 4個のb, 5個のcを並べる順列の総数\n",
    "\n",
    "問題２．3個のa, 4個のb, 5個のc, 2個のd, 1個のe, 1個のfを並べる順列の総数，ただし，左からd,d,e,fはこの順番であるとする．"
   ]
  },
  {
   "cell_type": "markdown",
   "metadata": {},
   "source": [
    "(1) 最初にa,b,cを区別して, $a_1, a_2, a_3, b_1, b_2, b_3, b_4, c_1, c_2, c_3, c_4, c_5$ を並べることとし，$12!$となる．この問題の場合，$a_1, a_2, a_3$の場合も，$a_3, a_2, a_1$の場合も，同じであると見なされるため，**(b)の順列を気にしない場合**と同じである．つまり，各チームには1通りの順列しか存在しないので，$3!4!5!$で割ればよい．"
   ]
  },
  {
   "cell_type": "markdown",
   "metadata": {},
   "source": [
    "(2) この問題も，(1)と同様に最初は各アルファベットを区別して並べると，$16!$となる．条件のd,d,e,fは順列が1通りしか存在しないので，**(b)の順列を気にしない場合**と同じであり$4!$で割ればよい．これに加えて(1)の$3!4!5!$も割る．"
   ]
  },
  {
   "cell_type": "code",
   "execution_count": null,
   "metadata": {},
   "outputs": [],
   "source": []
  },
  {
   "cell_type": "code",
   "execution_count": null,
   "metadata": {},
   "outputs": [],
   "source": []
  }
 ],
 "metadata": {
  "kernelspec": {
   "display_name": "shumi-note",
   "language": "python",
   "name": "python3"
  },
  "language_info": {
   "codemirror_mode": {
    "name": "ipython",
    "version": 3
   },
   "file_extension": ".py",
   "mimetype": "text/x-python",
   "name": "python",
   "nbconvert_exporter": "python",
   "pygments_lexer": "ipython3",
   "version": "3.9.18"
  }
 },
 "nbformat": 4,
 "nbformat_minor": 2
}

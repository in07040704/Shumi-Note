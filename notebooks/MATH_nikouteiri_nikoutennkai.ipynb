{
 "cells": [
  {
   "cell_type": "markdown",
   "metadata": {},
   "source": [
    " # 2項定理・2項展開\n",
    "\n",
    "参考：[弱点克服　大学生の確率・統計](https://amzn.asia/d/hrIfr0i)\n",
    "\n",
    "■2項定理：\n",
    "\n",
    "\n",
    "2項定理とは以下の公式のことを言う．\n",
    "$$\n",
    "\\sum_{k=0}^{n}\\left(\\begin{array}{c} n \\\\k\\end{array}\\right) x^ky^{n-k}=(x+y)^n\n",
    "$$\n",
    "\n",
    "■ニュートン展開：\n",
    "\n",
    "$_nC_k$ を $\\left(\\begin {array}{c} n \\\\k\\end{array}\\right)$ と書くのは$n$ が自然数ではない時も考えたいからで，その場合は**一般化に項定理**と呼び，$\\alpha \\in \\mathbb{R},k \\in \\mathbb{N} \\cup {0} $ に対して\n",
    "$$\n",
    "\\left(\\begin {array}{c} \\alpha \\\\k\\end{array}\\right) = \\frac{\\alpha(\\alpha-1)\\cdot\\cdot\\cdot(\\alpha-k+1)}{k!}\n",
    "$$\n",
    "と定義すると，**ニュートン展開** \n",
    "$$\n",
    "(1+x)^\\alpha=\\left(\\begin {array}{c} \\alpha \\\\0\\end{array}\\right)+\\left(\\begin {array}{c} \\alpha \\\\1\\end{array}\\right)x+\\cdot\\cdot\\cdot=\\sum_{k=0}^{\\infty}\\left(\\begin {array}{c} \\alpha \\\\k\\end{array}\\right)x^k(|x|<1)\n",
    "$$"
   ]
  },
  {
   "cell_type": "markdown",
   "metadata": {},
   "source": [
    "問題１．$$\\sum_{k=0}^{n}\\left(\\begin {array}{c} n \\\\k\\end{array}\\right)2^k$$\n",
    "\n",
    "問題２．$$\\sum_{k=0}^{n}k\\left(\\begin {array}{c} n \\\\k\\end{array}\\right)2^k$$\n",
    "\n",
    "問題３．$|x|<1$ として，以下を無限級数で表せ．\n",
    "$$\n",
    "(1-x)^{-3}\n",
    "$$\n",
    "\n",
    "問題４．$|x|<1$ として，以下を無限級数で表せ．\n",
    "$$\n",
    "(1-x)^{-1/2}\n",
    "$$"
   ]
  },
  {
   "cell_type": "markdown",
   "metadata": {},
   "source": [
    "(1) $$\\sum_{k=0}^{n}\\left(\\begin {array}{c} n \\\\k\\end{array}\\right)2^k = \\sum_{k=0}^{n}\\left(\\begin {array}{c} n \\\\k\\end{array}\\right)2^k1^{n-k} = (1+2)^n = 3^n$$\n",
    "\n",
    "(2) $$\\sum_{k=0}^{n}k\\left(\\begin {array}{c} n \\\\k\\end{array}\\right)2^k = \\sum_{k=1}^{n}k\\frac{n}{k}\\left(\\begin {array}{c} n-1 \\\\k-1\\end{array}\\right)2^k $$ $k-1=l=0$とおくと，\n",
    "$$\n",
    "n\\sum_{l=0}^{n-1}\\left(\\begin {array}{c} n-1 \\\\l\\end{array}\\right)2^{l+1}=2n(1+2)^{n-1}=2n3^{n-1}\n",
    "$$"
   ]
  },
  {
   "cell_type": "markdown",
   "metadata": {},
   "source": [
    "(3) \n",
    "$$\n",
    "\\begin{aligned}\n",
    "(1-x)^{-3}&=\\sum_{k=0}^{\\infty}\\left(\\begin {array}{c} -3 \\\\k\\end{array}\\right)(-x)^k\\\\\n",
    "&=\\sum_{k=0}^{\\infty}\\frac{(-3)(-4)\\cdot\\cdot\\cdot(-3-k+1)}{k!}(-x)^k\\\\\n",
    "&=\\sum_{k=0}^{\\infty}\\frac{1\\cdot 2}{1\\cdot 2}\\cdot\\frac{3\\cdot 4\\cdot \\cdot \\cdot (k-1)\\cdot k\\cdot (k+1)\\cdot (k+2)}{k!}(x)^k\\\\\n",
    "&=\\sum_{k=0}^{\\infty}\\frac{(k+1)(k+2)}{2}x^k\n",
    "\\end{aligned}\n",
    "$$\n",
    "\n",
    "(4) \n",
    "$$\n",
    "\\begin{aligned}\n",
    "(1-x)^{-1/2}&=\\sum_{k=0}^{\\infty}\\left(\\begin {array}{c} -1/2 \\\\k\\end{array}\\right)(-x)^k\\\\\n",
    "&=\\sum_{k=0}^{\\infty}\\frac{(\\frac{-1}{2})(\\frac{-3}{2})\\cdot\\cdot\\cdot (-\\frac{2k-1}{2})}{k!}(-x)^k\\\\\n",
    "&=\\sum_{k=0}^{\\infty}\\frac{1\\cdot 3\\cdot\\cdot\\cdot (2k-1)}{2^kk!}x^k\\\\\n",
    "&=\\sum_{k=0}^{\\infty}\\frac{2\\cdot 4\\cdot\\cdot\\cdot (2k)}{2\\cdot 4\\cdot\\cdot\\cdot (2k)}\\cdot\\frac{1\\cdot 3\\cdot\\cdot\\cdot (2k-1)}{2^kk!}x^k\\\\\n",
    "&=\\sum_{k=0}^{\\infty}\\frac{1}{2^kk!}\\cdot\\frac{(2k)!}{2^kk!}x^k\\\\\n",
    "&=\\sum_{k=0}^{\\infty}\\frac{(2k)!}{4^{k}(k!)^2}x^k\\\\\n",
    "&=\\sum_{k=0}^{\\infty}\\left(\\begin {array}{c} 2k \\\\k\\end{array}\\right)(\\frac{x}{4})^k\n",
    "\\end{aligned}\n",
    "$$"
   ]
  },
  {
   "cell_type": "code",
   "execution_count": null,
   "metadata": {},
   "outputs": [],
   "source": []
  },
  {
   "cell_type": "code",
   "execution_count": null,
   "metadata": {},
   "outputs": [],
   "source": []
  }
 ],
 "metadata": {
  "language_info": {
   "name": "python"
  }
 },
 "nbformat": 4,
 "nbformat_minor": 2
}

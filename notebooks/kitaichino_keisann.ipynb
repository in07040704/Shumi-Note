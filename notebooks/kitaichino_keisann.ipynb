{
 "cells": [
  {
   "cell_type": "markdown",
   "metadata": {},
   "source": [
    "# 集合と写像\n",
    "\n",
    "参考：[弱点克服　大学生の確率・統計](https://amzn.asia/d/hrIfr0i)\n",
    "\n",
    "■期待値の性質：\n",
    "\n",
    "\n",
    "$a,b,c$を定数とすると，$E(aX+bY+c)=aE(X)+bE(Y)+c$ (X,Yの独立性の必要はなし)\n",
    "\n",
    "問題１．$E(X)=5,E(Y)=6でX,Y$は独立である．次を求めよ．\n",
    "(1) $E(3-4X)$  (2) $E(2X-3Y+4)$  (3) $E(XY)$\n",
    "\n",
    "問題２．$P(X=k)=ck^2(k=1,2,\\cdot \\cdot \\cdot,N)$その他では0のとき，(1) 定数ｃ  (2) $E(X)$  (3) $E(\\frac{1}{X})$\n",
    "\n",
    "問題３．$P(X=k)=ck(k+1)(k=1,2,\\cdot \\cdot \\cdot,N)$その他では0のとき，(1) 定数ｃ  (2) $E(X+2)$  (3) $E(X)$"
   ]
  },
  {
   "cell_type": "markdown",
   "metadata": {},
   "source": [
    "(1.1) $E(3-4X)=3-4\\cdot 5=-17$\n",
    "\n",
    "(1.2) $E(2X-3Y+4)=2\\cdot 5-3\\cdot 6 +4=-4$\n",
    "\n",
    "(1.3) $E(XY)=5\\times 6=30$\n",
    "\n",
    "(2.1) $k=1,2,\\cdot \\cdot \\cdot,N$までの確立$P(X=k)$を全て足し合わせると1になるので，以下の式が成り立つ．\n",
    "$$\n",
    "1=\\sum_{k=1}^{N}ck^2=c\\frac{N(N+1)(2N+1)}{6}\n",
    "$$\n",
    "よって，$c=\\frac{6}{N(N+1)(2N+1)}$\n",
    "\n",
    "(2.2) $E(X)=\\sum_{k=1}^{N}kP(X=k)=\\sum_{k=1}^{N}ck^3=c(\\frac{N(N+1)}{2})^2=\\frac{6}{N(N+1)(2N+1)}(\\frac{N(N+1)}{2})^2=\\frac{3N(N+1)}{2(2N+1)}$\n",
    "\n",
    "(2.3) $E(\\frac{1}{X})=\\sum_{k=1}^{N}\\frac{1}{k}P(X=k)=\\sum_{k=1}^{N}\\frac{1}{k}ck^2=c\\sum_{k=1}^{N}k=\\frac{6}{N(N+1)(2N+1)}\\cdot \\frac{N(N+1)}{2}=\\frac{3}{2N+1}$\n",
    "\n",
    "(3.1) $k=1,2,\\cdot \\cdot \\cdot,N$までの確立$P(X=k)$を全て足し合わせると1になるので，以下の式が成り立つ．以下の式ではTelescopingの公式を使用している．\n",
    "$$\n",
    "1=\\sum_{k=1}^{N}ck(k+1)=c\\sum_{k=1}^{N}\\frac{k(k+1)(k+2)-{(k-1)k(k+1)}}{3}=c\\frac{N(N+1)(N+2)}{3}\n",
    "$$\n",
    "よって，$c=\\frac{3}{N(N+1)(N+2)}$\n",
    "\n",
    "(3.2) $E(X+2)=\\sum_{k=1}^{N}(k+2)P(X=k)=c\\sum_{k=1}^{N}(k+2)k(k+1)=c\\sum_{k=1}^{N}\\frac{k(k+1)(k+2)(k+3)-(k-1)k(k+1)(k+2)}{4}=\\frac{3}{N(N+1)(N+2)}\\frac{N(N+1)(N+2)(N+3)}{4}=\\frac{3(N+3)}{4}$\n",
    "\n",
    "(3.3) (3.2)より，$E(X)=E(X+2)-E(2)=\\frac{3(N+3)}{4}-2=\\frac{3N+1}{4}$"
   ]
  },
  {
   "cell_type": "code",
   "execution_count": null,
   "metadata": {},
   "outputs": [],
   "source": []
  }
 ],
 "metadata": {
  "language_info": {
   "name": "python"
  }
 },
 "nbformat": 4,
 "nbformat_minor": 2
}

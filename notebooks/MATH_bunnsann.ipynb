{
 "cells": [
  {
   "cell_type": "markdown",
   "metadata": {},
   "source": [
    " # 分散\n",
    "\n",
    "参考：[弱点克服　大学生の確率・統計](https://amzn.asia/d/hrIfr0i)\n",
    "\n",
    "■期待値の分散と標準偏差：\n",
    "\n",
    "$V(X)=E((X-m)^2)$  $(m=E(X)をXの分散)$\n",
    "\n",
    "$\\sigma(X)=\\sqrt{V(X)}$を$X$の標準偏差．\n",
    "\n",
    "\n",
    "$V(x),\\sigma(X)$の**基本的性質**(a,bは定数とする)\n",
    "\n",
    "$\\cdot V(X)=E(X^2)-(E(X))^2$\n",
    "\n",
    "$\\cdot V(a+bX)=b^2V(X), \\sigma(a+bX)=|b|\\sigma(X)$\n",
    "\n",
    "$\\cdot V(X)\\geqq 0$  $(V(X))=0 \\Longrightarrow X=定数cつまり，P(X=c)=1$\n",
    "\n",
    "つまり，**分散や標準偏差はいついかなるときでも非負であり，定数の場合を除いて正である．**"
   ]
  },
  {
   "cell_type": "markdown",
   "metadata": {},
   "source": [
    "問題．$P(X=k)ck(k=1,2,\\cdot \\cdot \\cdot ,N)$その他では0の時，以下を求めよ．\n",
    "\n",
    "(1) $定数c$ (2) $E(X)$  (3) $V(X)$  (4) $V(3-4X)$  (5) $\\sigma (4-5X)$"
   ]
  },
  {
   "cell_type": "markdown",
   "metadata": {},
   "source": [
    "(1) 全体事象（標本空間$\\Omega$）の確立は1（つまり確率$P(X)$を全て足し合わせた合計）なので，\n",
    "\n",
    "$$\n",
    "1=\\sum_{k=1}^{N}P(X=k)=\\sum_{k=1}^{N}ck=c\\frac{N(N+1)}{2}\n",
    "$$\n",
    "よって，\n",
    "$c=\\frac{2}{N(N+1)}$\n",
    "\n",
    "(2) $E(X)=\\sum_{k=1}^{N}kP(X=k)=\\sum_{k=1}^{N}ck^2$，公式$\\sum_{k=1}^{N}k^2=\\frac{N(N+1)(2N+1)}{6}$より，$E(X)=\\frac{2}{N(N+1)}\\frac{N(N+1)(2N+1)}{6}=\\frac{2N+1}{3}$\n",
    "\n",
    "(3) $V(X)=E(X^2)-(E(X))^2$の公式より，初めに，$E(X^2)$を解くと，\n",
    "\n",
    "$E(X^2)=\\sum_{k=1}^{N}k^2P(X=k)=\\sum_{k=1}^{N}ck^3$, 公式$\\sum_{k=1}^{N}k^3=(\\frac{N(N+1)}{2})^2$より，$E(X^2)=\\frac{2}{N(N+1)}(\\frac{N(N+1)}{2})^2=\\frac{N(N+1)}{2}$\n",
    "\n",
    "よって求める答えは，\n",
    "$$\n",
    "V(X)=\\frac{N(N+1)}{2}-(\\frac{2N+1}{3})^2=\\frac{(n+2)(n-1)}{18}\n",
    "$$\n",
    "\n",
    "(4) 公式より，\n",
    "$$\n",
    "V(3-4X)=4^2V(X)=16\\frac{(n+2)(n-1)}{18}=\\frac{8(n+2)(n-1)}{9}\n",
    "$$\n",
    "\n",
    "(5) 公式より，\n",
    "$$\n",
    "\\sigma (4-5X)=|5|\\sigma(X)=5\\sqrt{\\frac{(n+2)(n-1)}{18}}\n",
    "$$"
   ]
  },
  {
   "cell_type": "code",
   "execution_count": null,
   "metadata": {},
   "outputs": [],
   "source": []
  }
 ],
 "metadata": {
  "language_info": {
   "name": "python"
  }
 },
 "nbformat": 4,
 "nbformat_minor": 2
}

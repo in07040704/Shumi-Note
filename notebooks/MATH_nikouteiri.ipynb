{
 "cells": [
  {
   "cell_type": "markdown",
   "metadata": {},
   "source": [
    "# 二項分布\n",
    "\n",
    "参考：[弱点克服　大学生の確率・統計](https://amzn.asia/d/hrIfr0i)\n",
    "\n",
    "■2項分布：\n",
    "\n",
    "\n",
    "N回の独立なベルヌーイ志功(成功回数＝X)とする．Xを2項確率変数，Xの確率分布をパラメータN,pの**2項分布**といい，$X\\sim B(N,p)$と書く．\n",
    "\n",
    "反復試行の定理より$0\\leqq k\\leqq N$に対して$P(X=k)=_NC_kp^k(1-p)^{N-k}$となる．\n",
    "$$\n",
    "\\begin{aligned}\n",
    "E(X)&=\\sum_{k=0}^{N}P(X=k)=\\sum_{k=1}^{N}k_NC_kp^k(1-p)^{N-k}\\\\\n",
    "&=\\sum_{k=1}^{N}N_{N-1}C_{k-1}p^k(1-p)^{N-k}\\\\\n",
    "&=p\\sum_{l=0}^{N-1}N_{N-1}C_lp^l(1-p)^{N-1-l}\\\\\n",
    "&=Np(p+1-p)^{N-1}=Np\n",
    "\\end{aligned}\n",
    "$$\n",
    "\n",
    "$$\n",
    "\\begin{aligned}\n",
    "E(X(X-1))&=\\sum_{k=0}^{N}P(X=k)=\\sum_{k=2}^{N}k(k-1)_NC_kp^k(1-p)^{N-k}\\\\\n",
    "&=\\sum_{k=2}^{N}N(N-1)_{N-2}C_{k-2}p^k(1-p)^{N-k}\\\\\n",
    "&=p^2\\sum_{l=0}^{N-2}N(N-1)_{N-2}C_lp^l(1-p)^{N-2-l}\\\\\n",
    "&=N(N-1)p^2(p+1-p)^{N-2}=N(N-1)p^2\n",
    "\\end{aligned}\n",
    "$$\n",
    "\n",
    "よって，$V(X)=E(X(X-1))+E(X)-(E(X))^2=Np(1-p)$である．\n",
    "\n",
    "$E(X)=X(X_1+\\cdot \\cdot \\cdot +X_N)=E(X_1)+\\cdot \\cdot \\cdot +E(X_N)=p+\\cdot \\cdot \\cdot +p=pN$\n",
    "\n",
    "$V(X)=V(X_1+\\cdot \\cdot \\cdot +X_N)=V(X_1)+\\cdot \\cdot \\cdot +V(X_N)=Np(1-p)$\n",
    "\n",
    "\n",
    "問題．サイコロをN回投げたとき，確率変数$X_i$を，$i$回目に6の目が出れば1，その他の目なら0と定める．また，$Y_i=X_1+\\cdot \\cdot \\cdot +X_i$とする．\n",
    "\n",
    "(1) $Y_3$の確率分布（表を書け）\n",
    "\n",
    "(2) $E(Y_3),V(Y_3)$\n",
    "\n",
    "(3) $Y_N$の確率分布\n",
    "\n",
    "(4) $E(Y_N),V(Y_N)$\n",
    "\n",
    "を求めよ．"
   ]
  },
  {
   "cell_type": "markdown",
   "metadata": {},
   "source": [
    "(1) $Y_3$は3回のベルヌーイ試行における成功回数なので$Y_3\\sim B(3,\\frac{1}{6})$つまり，\n",
    "\n",
    "$Y_3||0|1|2|3|$\n",
    "\n",
    "$確率||(\\frac{5}{6})^3=\\frac{125}{216}|_3C_1\\frac{1}{6}(\\frac{5}{6})^2=\\frac{75}{216}|_3C_2\\frac{5}{6}(\\frac{1}{6})^2=\\frac{15}{216}|\\frac{1}{216}$\n",
    "\n",
    "(2) $E(Y_3)=Np=3\\times \\frac{1}{6}=\\frac{1}{2},V(Y_3)=Np(1-p)=3\\times \\frac{1}{6}\\times \\frac{5}{6}=\\frac{5}{12}$\n",
    "\n",
    "(3) $P(Y_N=k)=_NC_k(\\frac{1}{6})^k(\\frac{5}{6})^{N-k}(0\\leqq k \\leqq N)$\n",
    "\n",
    "(4) $E(Y_N)=Np=\\frac{N}{6}, V(Y_N)=Np(1-p)=\\frac{5N}{36}$"
   ]
  },
  {
   "cell_type": "code",
   "execution_count": null,
   "metadata": {},
   "outputs": [],
   "source": []
  },
  {
   "cell_type": "markdown",
   "metadata": {},
   "source": []
  }
 ],
 "metadata": {
  "language_info": {
   "name": "python"
  }
 },
 "nbformat": 4,
 "nbformat_minor": 2
}

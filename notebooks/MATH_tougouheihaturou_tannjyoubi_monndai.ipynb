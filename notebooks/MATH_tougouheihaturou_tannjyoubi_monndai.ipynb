{
 "cells": [
  {
   "cell_type": "markdown",
   "metadata": {},
   "source": [
    "# 東郷平八郎の訓示，誕生日の問題\n",
    "\n",
    "参考：[弱点克服　大学生の確率・統計](https://amzn.asia/d/hrIfr0i)\n",
    "\n",
    "問題１．東郷平八郎は日露戦争で「百発百中の大砲１門は百発一中の大砲百門に匹敵する」と訓示し，兵隊を鼓舞した．この訓示は数学的に正しいか？\n",
    "\n",
    "問題２．(2.1)n人のクラスで誕生日の同じ人のいる確率が$\\frac{1}{2}$より大きくなるnは？\n",
    "\n",
    "(2.2)n人のクラスメートのなかで，ある1人と誕生日が同じ人がいる確率が$\\frac{1}{2}$より大きくなるnは？\n",
    "\n",
    "ただし，$e^{0.7}\\fallingdotseq 2$を利用してよい．"
   ]
  },
  {
   "cell_type": "markdown",
   "metadata": {},
   "source": [
    "(1) この問題の解釈は難しいところで，今回は以下の様に問題を設定する．\n",
    "「百発百中の大砲Aと百発一中の大砲n門$b_1,b_2,b_3,\\cdot \\cdot \\cdot b_n$が同時に打ち合い，百発一中の大砲がどれかにあたれば百発百中の大砲は負け，百発一中の大砲全てが外れれば，Aは$b_n$を壊し，また，次にAは$b_1,b_2,b_3,\\cdot \\cdot \\cdot b_{n-1}$と対戦し，これを繰り返す．ここでAが勝つ確率は？」\n",
    "ここでAが勝つ確率は，\n",
    "$$\n",
    "(1-\\frac{1}{100})^n(1-\\frac{1}{100})^{n-1}\\cdot \\cdot \\cdot=(1-\\frac{1}{100})^{n+\\cdot \\cdot \\cdot+2+1}=(1-\\frac{1}{100})^{\\frac{n(n+1)}{2}}=((1-\\frac{1}{100})^100)^{\\frac{n(n+1)}{200}}\\fallingdotseq e^{-\\frac{n(n+1)}{200}}\\geqq 0.5=\\frac{1}{2}\n",
    "$$\n",
    "\n",
    "となり，$e^{0.7}\\fallingdotseq 2$と合わせると，\n",
    "$$\n",
    "e^{-\\frac{n(n+1)}{200}}\\geqq\\frac{1}{2}\n",
    "$$\n",
    "$$\n",
    "\\frac{n(n+1)}{200}\\fallingdotseq 0.7 これを解いて，n\\leqq 11なら百発百中の大砲1門が有利，12門以上なら百発1中の大砲が有利となる．\n",
    "$$"
   ]
  },
  {
   "cell_type": "markdown",
   "metadata": {},
   "source": [
    "(2)(2.1) 近似的に考えると，例えば，3が1,2と誕生日が異なる確率=3が1と誕生日が異なりかつ3が2と誕生日がことなる確率$\\fallingdotseq (1-\\frac{1}{365})^{2}\\cdot \\cdot \\cdot$\n",
    "\n",
    "$nが1,2,3,\\cdot \\cdot \\cdot ,n-1$と誕生日の異なる確率$\\fallingdotseq (1-\\frac{1}{365})^1(1-\\frac{1}{365})^2 \\cdot \\cdot \\cdot(1-\\frac{1}{365})^{n-1}=(1-\\frac{1}{365})^{\\frac{n(n-1)}{2}}=((1-\\frac{1}{365})^{365})^{\\frac{(n-1)n}{730}}\\fallingdotseq (e^{-1})^{\\frac{(n-1)n}{730}}$\n",
    "よって，\n",
    "$$\n",
    "\\frac{n(n-1)}{730}\\fallingdotseq 0.7, (n-1)n=730\\times 0.7= 511 \n",
    "$$\n",
    "に近いnを求め，境目はn=23となる．\n",
    "\n",
    "(2.2) (2.1)と同様に考え，求まる確率$=1-(1-\\frac{1}{365})^n > \\frac{1}{2}$より，\n",
    "$$\n",
    "(1-\\frac{1}{365})^n=((1-\\frac{1}{365})^{365})^{\\frac{n}{365}}\\fallingdotseq e^{-\\frac{n}{365}}<e^{-0.7}\\fallingdotseq \\frac{1}{2}\n",
    "$$\n",
    "となり，$n>365\\times 0.7=255.5$,つまり，$n\\geqq256$"
   ]
  },
  {
   "cell_type": "code",
   "execution_count": null,
   "metadata": {},
   "outputs": [],
   "source": []
  }
 ],
 "metadata": {
  "language_info": {
   "name": "python"
  }
 },
 "nbformat": 4,
 "nbformat_minor": 2
}

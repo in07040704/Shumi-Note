{
 "cells": [
  {
   "cell_type": "markdown",
   "metadata": {},
   "source": [
    "# 事象の確率計算・独立性・排反\n",
    "\n",
    "参考：[弱点克服　大学生の確率・統計](https://amzn.asia/d/hrIfr0i)\n",
    "\n",
    "■事象A,Bが**独立**であるとは：\n",
    "\n",
    "$$\n",
    "P(A\\cap B)=P(A)P(B)\n",
    "$$\n",
    "を満たす．\n",
    "\n",
    "**条件付確率**\n",
    "$$P(A|B)=\\frac{P(A\\cap B)}{P(B)}$$\n",
    "＝事象Bが起こったという条件の下での事象Aが起こる確率．\n",
    "\n",
    "■事象A,Bが**排反**であるとは：\n",
    "\n",
    "$$\n",
    "A\\cap B=0\n",
    "$$\n",
    "\n",
    "■**排反でない**場合の和事象の確立計算は：\n",
    "\n",
    "$$\n",
    "P(A\\cup B)=P(A)+P(B)-P(A\\cap B)\n",
    "$$\n",
    "$$\n",
    "P(A\\cup B\\cup C)=P(A)+P(B)+P(C)-(P(A\\cap B)+P(B\\cap C)+P(C\\cap A)+P(A\\cap B\\cap C))\n",
    "$$\n",
    "\n",
    "■3つ以上の事象A,B,Cの**独立性**については：\n",
    "\n",
    "$$\n",
    "P(A\\cap B)=P(A)P(B)，P(B\\cap C)=P(B)P(C)，P(C\\cap A)=P(C)P(A)，\n",
    "$$\n",
    "$$\n",
    "P(A\\cap B\\cap C)=P(A)P(B)P(C)\n",
    "$$\n",
    "を満たす．"
   ]
  },
  {
   "cell_type": "markdown",
   "metadata": {},
   "source": [
    "問題．1~120までの自然数をランダムに1つ選び，その数が$i$の倍数になる確率を考える．$A_i=\\{ix|x\\in \\mathbb{Z},1\\leqq ix\\leqq 120\\}=1\\sim120$までの整数のなかでの$i$の倍数全体とする．この時以下を求めよ．\n",
    "\n",
    "(1) $P(A_2),P(A_3),P(A_4),P(A_5),P(A_6),P(A_7),P(A_8),P(A_9),P(A_{10})$\n",
    "\n",
    "(2) 「$A_2とA_3$は独立」を示せ．\n",
    "\n",
    "(3) P(A_6|A_8),P(A_5|A_8)\n",
    "\n",
    "(4) $A_2,A_3,A_5$が独立であることを示せ．\n",
    "\n",
    "(5) $A_7$と排反の$A_i$の例を挙げよ．\n",
    "\n",
    "(6) $P(A_2\\cup A_3),P(A_2\\cup A_3\\cup A_5)$"
   ]
  },
  {
   "cell_type": "markdown",
   "metadata": {},
   "source": [
    "問題の解答\n",
    "標本空間 $\\Omega=\\{1,\\cdot \\cdot \\cdot, 120\\}$，確率は$P(\\{1\\})=\\cdot \\cdot \\cdot =P(\\{120\\})=\\frac{1}{120}$\n",
    "\n",
    "(1) $A_2=\\{2,4,6,\\cdot \\cdot \\cdot,120\\},\\#\\{A_2\\}=60$\n",
    "$$\n",
    "P(A_2)=\\frac{\\#(A_2)}{\\#(\\Omega)}=\\frac{1}{2}\n",
    "$$\n",
    "同様に，$P(A_3)=\\frac{1}{3},P(A_4)=\\frac{1}{4},P(A_5)=\\frac{1}{5},P(A_6)=\\frac{1}{6},P(A_7)=\\frac{17}{120},P(A_8)=\\frac{1}{8},P(A_9)=\\frac{13}{120},P(A_{10})=\\frac{1}{10}$\n",
    "\n",
    "(2) $P(A_2\\cap A_3)=P(A_6)=\\frac{1}{6},P(A_2)=\\frac{1}{2},P(A_3)=\\frac{1}{3}より，P(A_2\\cap A_3)=P(A_2)P(A_3)$,したがって，$A_2とA_3$は独立．\n",
    "\n",
    "一方，$A_3と独立なA_i$は$i=2,4,5,7,8,10$のときである．\n",
    "\n",
    "(3) $P(A_6|A_8)=\\frac{A_6\\cap A_8}{A_6}=\\frac{A_{24}}{A_8}=\\frac{1/24}{1/8}=\\frac{1}{3}$\n",
    "\n",
    "$P(A_5|A_8)=\\frac{A_5\\cap A_8}{A_8}=\\frac{1/40}{1/8}=\\frac{1}{5}$\n",
    "\n",
    "(4) $P(A_2\\cap A_3)=P(A_2)P(A_3)，P(A_3\\cap A_5)=P(A_3)P(A_5)，P(A_5\\cap A_2)=P(A_5)P(A_2)$また，$P(A_2\\cap A_3\\cap A_5)=P(A_2)P(A_3)P(A_5)$以上が成り立つことから，$A_2,A_3,A_5$は独立である．\n",
    "\n",
    "(5) 7の倍数が入っていないものとして，例えば，\n",
    "$A_{20}=\\{20,40,60,80,100,120\\}$\n",
    "\n",
    "(6) $P(A_2\\cup A_3)=P(A_2)+P(A_3)-P(A_2\\cap A_3)=\\frac{1}{2}+\\frac{1}{3}-\\frac{1}{6}=\\frac{2}{3}$\n",
    "\n",
    "$P(A_2\\cup A_3\\cup A_5)=P(A_2)+P(A_3)+P(A_5)-\\{P(A_2\\cap A_3)+P(A_3\\cap A_5)+P(A_5\\cap A_2)\\}+P(A_2\\cap A_3\\cap A_5)=\\frac{1}{2}+\\frac{1}{3}+\\frac{1}{5}-\\{\\frac{1}{6}+\\frac{1}{15}+\\frac{1}{10}\\}+\\frac{1}{30}=\\frac{11}{15}$\n"
   ]
  },
  {
   "cell_type": "code",
   "execution_count": null,
   "metadata": {},
   "outputs": [],
   "source": []
  }
 ],
 "metadata": {
  "language_info": {
   "name": "python"
  }
 },
 "nbformat": 4,
 "nbformat_minor": 2
}

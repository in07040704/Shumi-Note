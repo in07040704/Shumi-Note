{
 "cells": [
  {
   "cell_type": "markdown",
   "metadata": {},
   "source": [
    "# 離散確率分布に関する計算\n",
    "\n",
    "参考：[弱点克服　大学生の確率・統計](https://amzn.asia/d/hrIfr0i)\n",
    "\n",
    "■**共分散の基本的な性質**：\n",
    "\n",
    "1. $Cov(X,Y)=E(XY)-E(X)E(Y)$とくに$X,Y$が独立の時，$Cov(X,Y)=0$\n",
    "\n",
    "2. $a,b$を定数とするとき，$V(aX+bY)=a^2V(X)+2abCov(X,Y)+b^2V(Y)$\n",
    "\n",
    "3. $Cov(aX+bY,cZ+dW)=acCov(X,Z)+adCov(X,W)+bcCov(Y,Z)+bdCov(Y,W)$"
   ]
  },
  {
   "cell_type": "markdown",
   "metadata": {},
   "source": [
    "問題１．離散確率変数Xの確率分布を$P(X=k)=c\\cdot 3^{-k}(k=0,1,2,\\cdot \\cdot \\cdot)$とする．この時以下を求めよ．\n",
    "(1) 定数$cとE(X)$  (2) $V(X)$  (3) $V(2^{-X})$\n",
    "\n",
    "問題２．2次元離散確率変数$(X,Y)$の同時確率分布は$P(X=i\\cap Y=j)=c(i+j)  (i=1,2,\\cdot \\cdot \\cdot,N　かつ　j=1,2,\\cdot \\cdot \\cdot,N)$である．次を求めよ．\n",
    "(1) 定数$cとE(X)$  (2) $E(X)^2$  (3) $Cov(X,Y)$  (4) $\\rho(X,Y)$"
   ]
  },
  {
   "cell_type": "markdown",
   "metadata": {},
   "source": [
    "(1.1) 全事象の確立を足し合わせると1になるので以下の式が成り立つ．\n",
    "$$\n",
    "1=c\\sum_{k=0}^{\\infty}3^{-k}=c\\frac{1}{1-3^{-k}}=\\frac{3}{2}\n",
    "$$\n",
    "よって，解答は，$c=\\frac{2}{3}$\n",
    "\n",
    "また，$E(X)$は公式$\\sum_{k=0}^{\\infty}kx^{k-1}=(1-x)^{-2}(|x|<1)$用いて，\n",
    "$$\n",
    "E(X)=\\frac{2}{3}\\sum_{k=0}^{\\infty}k\\cdot 3^{-k}=\\frac{2}{9}\\frac{1}{(1-\\frac{1}{3})^2}=\\frac{1}{2}\n",
    "$$\n",
    "\n",
    "(1.2) 離散確率分布の多くは以下の式で分散を計算する．\n",
    "$V(X)=E(X(X-1))+E(X)-(E(X))^2$\n",
    "また，公式$\\sum_{k=0}^{\\infty}k(k-1)x^{k-2}=2/(1-x)^3(|x|<1)$用いて，\n",
    "$$\n",
    "E(X(X-1))=\\frac{2}{3}\\sum_{k=0}^{\\infty}k(k-1)3^{-(k-2)}\\cdot 3^{-2}=\\frac{2}{27}\\frac{2}{(1-\\frac{1}{3})^3}=\\frac{1}{2}\n",
    "$$\n",
    "つまり，$V(X)=E(X(X-1))+E(X)-(E(X))^2=\\frac{1}{2}+\\frac{1}{2}-(\\frac{1}{2})^2=\\frac{3}{4}$\n",
    "\n",
    "(1.3) $V(2^{-X})$を解くために，初めに，\n",
    "$$\n",
    "E(2^{-X})=\\frac{2}{3}\\sum_{k=0}^{\\infty}2^{-k}3^{-k}=\\frac{2}{3}\\frac{1}{1-\\frac{1}{6}}=\\frac{4}{5}\n",
    "$$\n",
    "同様に\n",
    "$$\n",
    "E((2^{-X})^2)=E(4^{-X})=\\frac{2}{3}\\sum_{k=0}^{\\infty}4^{-k}3^{-k}=\\frac{2}{3}\\frac{1}{1-\\frac{1}{12}}=\\frac{8}{11}\n",
    "$$\n",
    "つまり，$V(2^{-X})=E((2^{-X})^2)-(E(2^{-X}))^2=\\frac{8}{11}-(\\frac{4}{5})^2=\\frac{24}{275}$\n",
    "\n",
    "(2.1) $\\sum_{i=1}^{N}\\sum_{j=1}^{N}c(i+j)=c\\sum_{i=1}^{N}(Ni+\\frac{N(N+1)}{2})=c(N\\sum_{i=1}^{N}+\\sum_{i=1}^{N}\\frac{N(N+1)}{2})=cN^2(N+1)$\n",
    "よって，$C=\\frac{1}{N^2(N+1)}$\n",
    "$E(X)$を求めるためには，$P(X=i)$を求める必要があるので，\n",
    "$$\n",
    "P(X=i)=\\sum_{j=1}^{N}P(X=i\\cap Y=j)=c\\sum_{j=1}^{N}\n",
    "(i+j)=\\frac{1}{N(N+1)}(i+\\frac{N+1}{2})\n",
    "$$\n",
    "よって，\n",
    "$$\n",
    "E(X)=\\frac{1}{N(N+1)}\\sum_{j=1}^{N}i(i+\\frac{N+1}{2})=\\frac{7N+5}{12}\n",
    "$$\n",
    "(2.2) \n",
    "$$\n",
    "E(X^2)=\\frac{1}{N(N+1)}\\sum_{j=1}^{N}i^2(i+\\frac{N+1}{2})=\\frac{(N+1)(5N+1)}{12}\n",
    "$$\n",
    "(2.3)  iとjは同じ結果になる．つまり，$\\sum_{i=1}^{N}\\sum_{j=1}^{N}j^2i=\\sum_{i=1}^{N}\\sum_{j=1}^{N}i^2j$なので，\n",
    "$$\n",
    "E(XY)=\\frac{1}{N^2(N+1)}\\sum_{i=1}^{N}\\sum_{j=1}^{N}ij(i+j)=\\frac{2}{N^2(N+1)}\\sum_{i=1}^{N}i^2\\sum_{j=1}^{N}j=\\frac{(N+1)(2N+1)}{6}\n",
    "$$\n",
    "よって，$Cov(X,Y)=E(XY)-E(X)E(Y)=\\frac{-(N-1)^2}{144}$\n",
    "\n",
    "(2.4) \n",
    "$$\n",
    "V(X)=E(X^2)-(E(X))^2=\\frac{(N-1)(11N+13)}{144}\n",
    "$$\n",
    "また，分散は以下のような公式が成り立つ．\n",
    "$$\n",
    "\\rho(X,Y)=\\frac{Cov(X,Y)}{\\sqrt{V(X)}\\sqrt{V(Y)}}\n",
    "$$\n",
    "よって，(2.3)と$V(X)=V(Y)$より\n",
    "$$\n",
    "=\\frac{-(N-1)}{11N+13}\n",
    "$$"
   ]
  },
  {
   "cell_type": "code",
   "execution_count": null,
   "metadata": {},
   "outputs": [],
   "source": []
  }
 ],
 "metadata": {
  "language_info": {
   "name": "python"
  }
 },
 "nbformat": 4,
 "nbformat_minor": 2
}

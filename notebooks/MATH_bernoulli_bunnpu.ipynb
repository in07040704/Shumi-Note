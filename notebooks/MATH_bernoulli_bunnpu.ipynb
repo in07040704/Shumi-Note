{
 "cells": [
  {
   "cell_type": "markdown",
   "metadata": {},
   "source": [
    "# 離散確率分布に関する計算\n",
    "\n",
    "参考：[弱点克服　大学生の確率・統計](https://amzn.asia/d/hrIfr0i)\n",
    "\n",
    "■**ベルヌーイ分布 $Be(p)$**：\n",
    "\n",
    "試行が成功なら1,失敗なら0と確率変数Xを定める時，このXをベルヌーイ確率変数という．Xの確率分布を**ベルヌーイ分布**といい，$X\\sim Be(p)$と書く．\n",
    "確率分布は$P(X=1)=p, P(X=0)=1-p$となる．\n",
    "\n",
    "期待値の計算は，\n",
    "$$\n",
    "E(X)=0\\times (1-p)+1\\times p=p\n",
    "$$\n",
    "$$\n",
    "E(X^2)=0^2\\times(1-p)+1^2\\times p=p\n",
    "$$\n",
    "$$\n",
    "V(X)=E(X^2)-(E(X))^2=p-p^2=p(1-p)\n",
    "$$\n",
    "\n",
    "0,1しかとらない確率変数の分布は\n",
    "$$\n",
    "Be(p) (P(X=1)=p)\n",
    "$$\n",
    "であることに注意する．"
   ]
  },
  {
   "cell_type": "markdown",
   "metadata": {},
   "source": [
    "問題．大小のサイコロを同時に1個投げry．変数Xを，大のサイコロにおいて6の目が出れば1,その他の目なら0，確率変数Yを，大のサイコロにおいて偶数の目が出れば1，奇数の目なら0，確率変数Zを，小のサイコロにおいて6の目が出れば1,6の目以外なら0と定める．\n",
    "\n",
    "(1) Xの確率分布　(2) E(X),V(X)　(3) E(3^X)　(4) Cov(X,Y)　(5) 事象X=1と事象Y=0は何であるか．事象X=1と事象Z=1は何であるか．　$(6) Cov(X,Z)　(7) P(max(X,Y)=0) (8) P(max(X,Z)=1),E(max(X,Z)),P(min(X,Z)=1),E(min(X,Z)) $"
   ]
  },
  {
   "cell_type": "markdown",
   "metadata": {},
   "source": [
    "(1) $P(X=1)=\\frac{1}{6}$なので$X\\sim Be(\\frac{1}{6})$\n",
    "\n",
    "(2) $E(X)=\\frac{1}{6}, V(X)=\\frac{1}{6}(1-\\frac{1}{6})=\\frac{5}{36}$\n",
    "\n",
    "(3) $E(3^X)=3^1\\times \\frac{1}{6}+3^0\\times \\frac{5}{6}=\\frac{4}{3}$\n",
    "\n",
    "(4) $E(XY)=1\\times 1 \\times P(X=1\\cap Y=1)=P(X=1)=\\frac{1}{6}$また，$E(X)=\\frac{1}{6},E(Y)=\\frac{1}{2}$より，$Cov(X,Y)=E(XY)-E(X)E(Y)=\\frac{1}{6}-\\frac{1}{6}\\times \\frac{1}{2}=\\frac{1}{12}$\n",
    "\n",
    "(5.a) 解答は**排反**．事象$X=1$は大の目=6という事象，事象$Y=0$は大の目=奇数という事象なので，これらが同時に起こることはない．\n",
    "\n",
    "(5.b) 解答は**独立**．事象$X=1$は大の目=6という事象，事象$Z=1$は小の目=6という事象であり，大の目が小の目に影響することはない．\n",
    "\n",
    "(6) X,Z は独立であるので，$Cov(X,Z)=0$\n",
    "\n",
    "(7) maxの定義より，\n",
    "$P(max(X,Y)=0)=P(X=0\\cap Y=0)=P(\\{1,3,5\\})=\\frac{1}{2}$\n",
    "\n",
    "(8) $P(max(X,Z)=1)=P(X=1\\cup z=1)=P(X=1)+P(Z=1)-P(X=1\\cap Z=1)=(X=1)+P(Z=1)-P(X=1) P(Z=1)=\\frac{1}{6}+\\frac{1}{6}-\\frac{1}{36}=\\frac{11}{36}$\n",
    "\n",
    "$max(X,Z)\\sim Be(\\frac{11}{36})$より，$E(max(X,Z))=\\frac{11}{36}$\n",
    "\n",
    "$P(min(X,Y)=1)=P(X=1\\cap Z=1)=P(X=1)P(Z=1)=\\frac{1}{36}$\n",
    "\n",
    "よって，$E(min(X,Z))=E(Be(\\frac{1}{36}))=\\frac{1}{36}$"
   ]
  },
  {
   "cell_type": "code",
   "execution_count": null,
   "metadata": {},
   "outputs": [],
   "source": []
  }
 ],
 "metadata": {
  "language_info": {
   "name": "python"
  }
 },
 "nbformat": 4,
 "nbformat_minor": 2
}

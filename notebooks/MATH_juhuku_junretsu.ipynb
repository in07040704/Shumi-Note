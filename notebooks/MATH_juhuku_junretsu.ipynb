{
 "cells": [
  {
   "attachments": {},
   "cell_type": "markdown",
   "metadata": {},
   "source": [
    "# 重複順列\n",
    "\n",
    "参考：[弱点克服　大学生の確率・統計](https://amzn.asia/d/hrIfr0i)\n",
    "\n",
    "区別できる$n$個のものから$k$個えらんでできる重複順列の総数は次で定義されます：\n",
    "\n",
    "$$\n",
    "_n\\Pi_k = n^k\n",
    "$$\n"
   ]
  },
  {
   "cell_type": "markdown",
   "metadata": {},
   "source": [
    "# 重複組み合わせ\n",
    "\n",
    "区別できる$n$個のものから$k$個えらんでできる組み合わせの総数は次で定義されます：\n",
    "\n",
    "$$\n",
    "_nH_k = _{n+k-1}C_k = \\left(\\begin{array}{c} n+k-1 \\\\k\\end{array}\\right) = \\frac{n(n+1)\\cdot\\cdot\\cdot(n+k-1)}{k!}\n",
    "$$\n"
   ]
  },
  {
   "cell_type": "markdown",
   "metadata": {},
   "source": [
    "問題１．n個以下の「.」と「_」でできるモールス信号の種類．\n",
    "\n",
    "問題２．$x+y+z=10, x,y,z\\geqq 1$ ($x,y,z$ は整数)の解の個数．\n",
    "\n",
    "問題３．$x+y+z\\leqq 10, x,y,z\\geqq 0$ ($x,y,z$ は整数)の解の個数．"
   ]
  },
  {
   "cell_type": "markdown",
   "metadata": {},
   "source": [
    "(1) n個でできるモールス信号の種類は重複順列であるので，$n^k$である．今回の場合は1~n個の順列の種類であるので，\n",
    "\n",
    "$ \\displaystyle\\sum_{k=1}^n 2^k = 2^{n+1}- 2$\n",
    "\n",
    "(2) 順番ではなく$x,y,z$の組み合わせであるので，重複組み合わせである．$x,y,z$が0以上である場合は，要素を〇，仕切りを｜として，「〇〇〇｜〇〇〇｜〇〇〇〇」の様に考えられるが，今回は$x,y,z$が1以上である為，各要素から〇1つ分を確保して，〇の数は合計で7つになる．仕切りを含めると9つになり，ここから2つの仕切りを選ぶので，計算式は，\n",
    "\n",
    "$_3H_7=_{7+3-1}C_7=_9C_2$となる．\n",
    "\n",
    "(3) $\\leqq10$の代わりに$=10$とするために，スラック変数$u(\\geqq0)$を用いる．すると，$x+y+z+u=10, x,y,z,u\\geqq 0$を解けばよい．\n",
    "仕切り｜の数は3つになり，〇と｜を合わせた合計は13子になる．つまり計算式は，\n",
    "\n",
    "$_4H_{10}=_{10+4-1}C_{10}=_{13}C_3=286$となる．"
   ]
  },
  {
   "cell_type": "code",
   "execution_count": null,
   "metadata": {},
   "outputs": [],
   "source": []
  },
  {
   "cell_type": "code",
   "execution_count": 1,
   "metadata": {},
   "outputs": [
    {
     "data": {
      "text/plain": [
       "125"
      ]
     },
     "execution_count": 1,
     "metadata": {},
     "output_type": "execute_result"
    }
   ],
   "source": [
    "import numpy as np\n",
    "\n",
    "def juhuku_junretsu(n, k):\n",
    "    return n ** k\n",
    "\n",
    "\n",
    "juhuku_junretsu(5, 3)"
   ]
  }
 ],
 "metadata": {
  "kernelspec": {
   "display_name": "Python 3.9.12 ('shumi-VTLwuKSy-py3.9')",
   "language": "python",
   "name": "python3"
  },
  "language_info": {
   "codemirror_mode": {
    "name": "ipython",
    "version": 3
   },
   "file_extension": ".py",
   "mimetype": "text/x-python",
   "name": "python",
   "nbconvert_exporter": "python",
   "pygments_lexer": "ipython3",
   "version": "3.9.18"
  },
  "orig_nbformat": 4,
  "vscode": {
   "interpreter": {
    "hash": "d6b7cac5e0d2ff733f340da4d53ae5ecfef7f7ad39623f5982b029a09306b36b"
   }
  }
 },
 "nbformat": 4,
 "nbformat_minor": 2
}

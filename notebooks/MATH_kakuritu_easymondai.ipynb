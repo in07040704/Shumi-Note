{
 "cells": [
  {
   "cell_type": "markdown",
   "metadata": {},
   "source": [
    " # 確率のやさしい問題\n",
    "\n",
    "参考：[弱点克服　大学生の確率・統計](https://amzn.asia/d/hrIfr0i)\n",
    "\n",
    "\n",
    "問題１．サイコロを10\n",
    "回投げる時，6の目が3回出る確率，6の目が3回且1の目が2回出る確率を求めよ．\n",
    "\n",
    "問題２．サイコロを何回も投げる．初めて6の目が出るまでに6の明解が5回出る確率，初めて6の目が出るまで全部偶数である確率を求めよ．\n",
    "\n",
    "問題３．1から12までの整数が1つずつ書かれたカードが12枚ある．そこからカードを1枚引いて元に戻さないでもう1回カードを引く．1回目の数字をX,2回目の数字をYとする時，以下の値を求めよ．\n",
    "$(1) P(X=3)$  $(2) P(X=3\\cap Y=3)$  $(3) P(X=3\\cap Y =2)$  $(4) E(X)$  $(5) P(max(X,Y)\\leqq4)$\n",
    "\n",
    "問題４．12個の製品のうち，非良品が2個あることは分かっている．1個ずつ調べて，最初の非良品を見つけるまでの試行回数をX, 2個目の不良品を見つけるまでの試行回数をYとする．以下の値を求めよ．\n",
    "$(1) P(X<3)$ $(2) P(Y\\leqq 4)$ $(3) E(X)$ $(4) E(Y)$\n",
    "\n",
    "問題５．壺に白玉が6個，黒玉が10個入っている．ここから無造作に選んだ5個の玉に，白玉が2個ある確率，また，黒玉が2個ある確率をそれぞれ求めよ．"
   ]
  },
  {
   "cell_type": "markdown",
   "metadata": {},
   "source": [
    "(1) 10回中3回6が出るのは$_{10}P_3$通りある．よって確率は，$_{10}P_3\\cdot (\\frac{1}{6})^3\\cdot (\\frac{5}{6})^7$\n",
    "\n",
    "次の問題は，10回中3回6，2回1が出るのは$_{10}P_5\\cdot \\frac{1}{3!\\cdot 2!}$通りある．よって確率は，$_{10}P_5\\cdot \\frac{1}{3!\\cdot 2!}\\cdot (\\frac{1}{6})^3\\cdot (\\frac{1}{6})^2\\cdot (\\frac{4}{6})^5$\n",
    "\n",
    "(2) はじめの5回で6以外の数字が出て，6回目で6が出る確率は，$(\\frac{5}{6})^5\\cdot \\frac{1}{6}$\n",
    "\n",
    "次の問題は，k回目に初めて6が出るとすると，(k-1)回目までは全て2,4である為，確率は以下のように計算される．\n",
    "$(\\frac{2}{6})^{k-1}\\cdot \\frac{1}{6}^k$ このkを∞まで足し合わせればいいので，\n",
    "$$\n",
    "\\sum_{k=1}^{\\infty}(\\frac{1}{3})^{k-1}\\cdot \\frac{1}{6}^k\n",
    "$$\n",
    "この式は無限等比級数であるので，公式に当てはめてとくと，\n",
    "$\\frac{\\frac{1}{6}}{1-\\frac{1}{3}}$\n",
    "\n",
    "(3) $(3.1) P(X=3)=\\frac{1}{12}$ \n",
    "\n",
    "$(3.2) P(X=3\\cap Y=3)$カードは戻されないのでこの事象はない．よって，0である．\n",
    "\n",
    "$(3.3) P(X=3\\cap Y =2)=\\frac{1}{12\\times 11}=\\frac{1}{132}$ \n",
    "\n",
    "$(3.4) E(X)=\\sum_{k=1}^{12}kP(X=k)=\\frac{78}{12}=\\frac{13}{2}$\n",
    "\n",
    "$(3.5) P(max(X,Y)\\leqq4)=\\frac{_4P_2}{_{12}P_2}=\\frac{1}{11}$\n",
    "\n",
    "(4) (4.1) $P(X<3)=\\frac{2}{12}+(\\frac{10}{12}\\cdot \\frac{2}{11})=\\frac{21}{66}=\\frac{7}{22}$\n",
    "\n",
    "(4.2) ここでは考え方を変えて，12個の中に不良品が2つ入っている場所の確立を考える．すると確率は，\n",
    "$\\frac{4\\cdot 3}{12\\cdot 11}=\\frac{1}{11}$\n",
    "\n",
    "(4.3) $1\\leqq k \\leqq 11$，$S,T$は不良品の位置として，$P(X\\geqq k)=P(S\\geqq k \\cap T\\geqq k)=\\frac{(13-k)(12-k)}{12\\times 11}$だから，$P(X=k)=P(X\\geqq k)-P(X\\geqq k+1)=\\frac{12-k}{66}$,これと，期待値の公式$E(X)=\\sum_{k=1}^{n}kP(X=k)$より，\n",
    "$$\n",
    "E(12-X)=\\frac{1}{66}\\sum_{k=1}^{11}(12-k)^2=\\frac{1}{66}\\sum_{l=1}^{11}l^2\n",
    "$$\n",
    "公式を使用して式を解くと，\n",
    "$\\frac{1}{66}\\cdot \\frac {11\\cdot 12\\cdot 23}{6}=\\frac{23}{3}$よって，答えは，$E(X)=12-\\frac{23}{3}=\\frac{13}{3}$\n",
    "\n",
    "(4.4) $2\\leqq k \\leqq 12$として，$P(Y\\leqq k)=P(max(S,T)\\leqq k)=\\frac{k(k-1)}{12\\times 11}$よって，$P(Y=k)=P(Y\\leqq k)-P(Y\\leqq k-1)=\\frac{k-1}{66}$つまり解答は，\n",
    "$$\n",
    "E(Y)=\\frac{1}{66}\\sum_{k=2}^{12}k(k-1)=\\frac{26}{3}\n",
    "$$\n",
    "\n",
    "(5) (5.1) $P(白玉が2個)=\\frac{_6C_2\\cdot _{10}C_3}{_{_{16}C_5}}$\n",
    "\n",
    "(5.2) $P(黒玉が2個)=\\frac{_6C_3\\cdot _{10}C_2}{_{_{16}C_5}}$\n"
   ]
  },
  {
   "cell_type": "code",
   "execution_count": 2,
   "metadata": {},
   "outputs": [
    {
     "data": {
      "text/plain": [
       "13.0"
      ]
     },
     "execution_count": 2,
     "metadata": {},
     "output_type": "execute_result"
    }
   ],
   "source": [
    "78/6"
   ]
  },
  {
   "cell_type": "code",
   "execution_count": null,
   "metadata": {},
   "outputs": [],
   "source": []
  }
 ],
 "metadata": {
  "kernelspec": {
   "display_name": "shumi-note",
   "language": "python",
   "name": "python3"
  },
  "language_info": {
   "codemirror_mode": {
    "name": "ipython",
    "version": 3
   },
   "file_extension": ".py",
   "mimetype": "text/x-python",
   "name": "python",
   "nbconvert_exporter": "python",
   "pygments_lexer": "ipython3",
   "version": "3.9.18"
  }
 },
 "nbformat": 4,
 "nbformat_minor": 2
}

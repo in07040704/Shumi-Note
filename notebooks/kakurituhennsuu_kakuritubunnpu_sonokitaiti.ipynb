{
 "cells": [
  {
   "cell_type": "markdown",
   "metadata": {},
   "source": [
    "# 事象の確率計算・独立性・排反\n",
    "\n",
    "参考：[弱点克服　大学生の確率・統計](https://amzn.asia/d/hrIfr0i)\n",
    "\n",
    "■**離散確率変数**：\n",
    "\n",
    "Xのとる値$(Im(X)=\\{X(\\omega)|\\omega\\in\\Omega\\})$が有限個，もしくは加算個のとき（多くの場合，自然数全体$\\mathbb{N}$，もしくは整数全体$\\mathbb{Z}$もしくはそれらの部分集合），Xは**離散確率変数**であるといい，kを動かして$P(X=k)$全体を離散確率変数Xの（離散）**確率分布**(下のような表と考えてよい)という．\n",
    "\n",
    "Xのとる値が$\\{a_1,\\cdot \\cdot \\cdot ,a_n\\}$である離散確率変数の確率分布((離散)確率分布)が\n",
    "$$\n",
    "X　||a_1,a_2,\\cdot \\cdot \\cdot,a_n\n",
    "$$\n",
    "$$\n",
    "確率||p_1,p_2,\\cdot \\cdot \\cdot,p_n\n",
    "$$\n",
    "\n",
    "のとき，\n",
    "$$\n",
    "E(X)=a_1p_1+a_2P_2+\\cdot \\cdot \\cdot+a_np_n=\\sum_{k=1}^{n}a_kP(X=a_k)\n",
    "$$\n",
    "をXの期待値(Expectation)という．"
   ]
  },
  {
   "cell_type": "markdown",
   "metadata": {},
   "source": [
    "問題１．正しい硬貨を4枚投げた時，表が出た枚数をXとする．Xの確立分布（表）を書き，$E(X),E(3-4X),E(X^2),E(2^X)$を求めよ．\n",
    "\n",
    "問題２．$P(X=k)=c(k=1,2,\\cdot \\cdot \\cdot ,N)$その他での値は0の時，定数cを求めよ．また，$E(X),E(X^2),E(2^X)$を求めよ．"
   ]
  },
  {
   "cell_type": "markdown",
   "metadata": {},
   "source": [
    "(1) 全事象の個数は$2^4=16$個ある．また，$X=0$となるのは1通りある為，$P(X=0)=\\frac{1}{16}$となる．同様に，$X=1$となるのは4通りある為，$P(X=1)=\\frac{4}{16}$となる．$X=2$となるのは$_4C_2=6$通りある為，$P(X=2)=\\frac{6}{16}$となる．$X=3$となるのは$_4C_3=4$通りある為，$P(X=3)=\\frac{4}{16}$となる．$X=4$となるのは1通りある為，$P(X=4)=\\frac{1}{16}$となる．\n",
    "\n",
    "$E(X)=0\\times \\frac{1}{16}+1\\times \\frac{4}{16}+2\\times \\frac{6}{16}+3\\times \\frac{4}{16}+4\\times \\frac{1}{16}=2$\n",
    "\n",
    "$E(3-4X)=(3-4\\times 0)\\times\\frac{1}{16}+(3-4\\times 1)\\times\\frac{4}{16}+(3-4\\times 2)\\times\\frac{6}{16}+(3-4\\times 3)\\times\\frac{4}{16}+(3-4\\times 4)\\times\\frac{1}{16}=-5$\n",
    "\n",
    "$E(X^2)=0^2\\times \\frac{1}{16}+1^2\\times \\frac{4}{16}+2^2\\times \\frac{6}{16}+3^2\\times \\frac{4}{16}+4^2\\times \\frac{1}{16}=5$\n",
    "\n",
    "$E(2^X)=2^0\\times \\frac{1}{16}+2^1\\times \\frac{4}{16}+2^2\\times \\frac{6}{16}+2^3\\times \\frac{4}{16}+2^4\\times \\frac{1}{16}=\\frac{81}{16}$\n",
    "\n",
    "(2) k=1~Nまでは確率が全てcで，それ以外の値の時の確立は0であるので，確率は全て足し合わせると1になることを踏まえると，$N個\\times c=1$となる．よって$c=\\frac{1}{N}$である．\n",
    "\n",
    "$E(X)=\\sum_{k=1}^{N}kP(X=k)=\\frac{1}{N}\\sum_{k=1}^{N}k=\\frac{N+1}{2}$\n",
    "\n",
    "$E(X^2)=\\sum_{k=1}^{N}k^2P(X=k)=\\frac{1}{N}\\sum_{k=1}^{N}k^2=\\frac{1}{N}\\frac{N(N+1)(2N+1)}{6}=\\frac{(N+1)(2N+1)}{6}$\n",
    "\n",
    "$E(2^X)=\\sum_{k=1}^{N}2^kP(X=k)=\\frac{1}{N}\\frac{2-2\\times 2^N}{1-2}=\\frac{2^{N+1}-2}{N}$\n",
    "\n"
   ]
  },
  {
   "cell_type": "code",
   "execution_count": null,
   "metadata": {},
   "outputs": [],
   "source": []
  }
 ],
 "metadata": {
  "language_info": {
   "name": "python"
  }
 },
 "nbformat": 4,
 "nbformat_minor": 2
}
